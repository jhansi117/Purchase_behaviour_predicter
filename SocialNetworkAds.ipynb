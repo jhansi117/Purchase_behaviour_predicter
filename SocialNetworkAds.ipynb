{
  "nbformat": 4,
  "nbformat_minor": 0,
  "metadata": {
    "colab": {
      "provenance": [],
      "mount_file_id": "1mMopges-jojHEr_szpEK1sAgk8MBdc7c",
      "authorship_tag": "ABX9TyMc8nQAga6u4N4eGMj/Jy0r",
      "include_colab_link": true
    },
    "kernelspec": {
      "name": "python3",
      "display_name": "Python 3"
    },
    "language_info": {
      "name": "python"
    }
  },
  "cells": [
    {
      "cell_type": "markdown",
      "metadata": {
        "id": "view-in-github",
        "colab_type": "text"
      },
      "source": [
        "<a href=\"https://colab.research.google.com/github/jhansi117/Purchase_behaviour_predicter/blob/main/SocialNetworkAds.ipynb\" target=\"_parent\"><img src=\"https://colab.research.google.com/assets/colab-badge.svg\" alt=\"Open In Colab\"/></a>"
      ]
    },
    {
      "cell_type": "code",
      "execution_count": null,
      "metadata": {
        "id": "IM2qPobyUzJX"
      },
      "outputs": [],
      "source": [
        "import numpy as np\n",
        "import pandas as pd\n",
        "import matplotlib.pyplot as plt"
      ]
    },
    {
      "cell_type": "code",
      "source": [
        "df = pd.read_csv('/content/drive/MyDrive/Colab Notebooks/Social_Network_Ads.csv')\n",
        "df"
      ],
      "metadata": {
        "colab": {
          "base_uri": "https://localhost:8080/",
          "height": 423
        },
        "id": "CuFEgdW8VMYq",
        "outputId": "1663ae7d-df0c-4330-a535-ef11cce09481"
      },
      "execution_count": null,
      "outputs": [
        {
          "output_type": "execute_result",
          "data": {
            "text/plain": [
              "      User ID  Gender  Age  EstimatedSalary  Purchased\n",
              "0    15624510    Male   19            19000          0\n",
              "1    15810944    Male   35            20000          0\n",
              "2    15668575  Female   26            43000          0\n",
              "3    15603246  Female   27            57000          0\n",
              "4    15804002    Male   19            76000          0\n",
              "..        ...     ...  ...              ...        ...\n",
              "395  15691863  Female   46            41000          1\n",
              "396  15706071    Male   51            23000          1\n",
              "397  15654296  Female   50            20000          1\n",
              "398  15755018    Male   36            33000          0\n",
              "399  15594041  Female   49            36000          1\n",
              "\n",
              "[400 rows x 5 columns]"
            ],
            "text/html": [
              "\n",
              "  <div id=\"df-750d8e17-70eb-4b7c-800c-01fe0a161849\">\n",
              "    <div class=\"colab-df-container\">\n",
              "      <div>\n",
              "<style scoped>\n",
              "    .dataframe tbody tr th:only-of-type {\n",
              "        vertical-align: middle;\n",
              "    }\n",
              "\n",
              "    .dataframe tbody tr th {\n",
              "        vertical-align: top;\n",
              "    }\n",
              "\n",
              "    .dataframe thead th {\n",
              "        text-align: right;\n",
              "    }\n",
              "</style>\n",
              "<table border=\"1\" class=\"dataframe\">\n",
              "  <thead>\n",
              "    <tr style=\"text-align: right;\">\n",
              "      <th></th>\n",
              "      <th>User ID</th>\n",
              "      <th>Gender</th>\n",
              "      <th>Age</th>\n",
              "      <th>EstimatedSalary</th>\n",
              "      <th>Purchased</th>\n",
              "    </tr>\n",
              "  </thead>\n",
              "  <tbody>\n",
              "    <tr>\n",
              "      <th>0</th>\n",
              "      <td>15624510</td>\n",
              "      <td>Male</td>\n",
              "      <td>19</td>\n",
              "      <td>19000</td>\n",
              "      <td>0</td>\n",
              "    </tr>\n",
              "    <tr>\n",
              "      <th>1</th>\n",
              "      <td>15810944</td>\n",
              "      <td>Male</td>\n",
              "      <td>35</td>\n",
              "      <td>20000</td>\n",
              "      <td>0</td>\n",
              "    </tr>\n",
              "    <tr>\n",
              "      <th>2</th>\n",
              "      <td>15668575</td>\n",
              "      <td>Female</td>\n",
              "      <td>26</td>\n",
              "      <td>43000</td>\n",
              "      <td>0</td>\n",
              "    </tr>\n",
              "    <tr>\n",
              "      <th>3</th>\n",
              "      <td>15603246</td>\n",
              "      <td>Female</td>\n",
              "      <td>27</td>\n",
              "      <td>57000</td>\n",
              "      <td>0</td>\n",
              "    </tr>\n",
              "    <tr>\n",
              "      <th>4</th>\n",
              "      <td>15804002</td>\n",
              "      <td>Male</td>\n",
              "      <td>19</td>\n",
              "      <td>76000</td>\n",
              "      <td>0</td>\n",
              "    </tr>\n",
              "    <tr>\n",
              "      <th>...</th>\n",
              "      <td>...</td>\n",
              "      <td>...</td>\n",
              "      <td>...</td>\n",
              "      <td>...</td>\n",
              "      <td>...</td>\n",
              "    </tr>\n",
              "    <tr>\n",
              "      <th>395</th>\n",
              "      <td>15691863</td>\n",
              "      <td>Female</td>\n",
              "      <td>46</td>\n",
              "      <td>41000</td>\n",
              "      <td>1</td>\n",
              "    </tr>\n",
              "    <tr>\n",
              "      <th>396</th>\n",
              "      <td>15706071</td>\n",
              "      <td>Male</td>\n",
              "      <td>51</td>\n",
              "      <td>23000</td>\n",
              "      <td>1</td>\n",
              "    </tr>\n",
              "    <tr>\n",
              "      <th>397</th>\n",
              "      <td>15654296</td>\n",
              "      <td>Female</td>\n",
              "      <td>50</td>\n",
              "      <td>20000</td>\n",
              "      <td>1</td>\n",
              "    </tr>\n",
              "    <tr>\n",
              "      <th>398</th>\n",
              "      <td>15755018</td>\n",
              "      <td>Male</td>\n",
              "      <td>36</td>\n",
              "      <td>33000</td>\n",
              "      <td>0</td>\n",
              "    </tr>\n",
              "    <tr>\n",
              "      <th>399</th>\n",
              "      <td>15594041</td>\n",
              "      <td>Female</td>\n",
              "      <td>49</td>\n",
              "      <td>36000</td>\n",
              "      <td>1</td>\n",
              "    </tr>\n",
              "  </tbody>\n",
              "</table>\n",
              "<p>400 rows × 5 columns</p>\n",
              "</div>\n",
              "      <button class=\"colab-df-convert\" onclick=\"convertToInteractive('df-750d8e17-70eb-4b7c-800c-01fe0a161849')\"\n",
              "              title=\"Convert this dataframe to an interactive table.\"\n",
              "              style=\"display:none;\">\n",
              "        \n",
              "  <svg xmlns=\"http://www.w3.org/2000/svg\" height=\"24px\"viewBox=\"0 0 24 24\"\n",
              "       width=\"24px\">\n",
              "    <path d=\"M0 0h24v24H0V0z\" fill=\"none\"/>\n",
              "    <path d=\"M18.56 5.44l.94 2.06.94-2.06 2.06-.94-2.06-.94-.94-2.06-.94 2.06-2.06.94zm-11 1L8.5 8.5l.94-2.06 2.06-.94-2.06-.94L8.5 2.5l-.94 2.06-2.06.94zm10 10l.94 2.06.94-2.06 2.06-.94-2.06-.94-.94-2.06-.94 2.06-2.06.94z\"/><path d=\"M17.41 7.96l-1.37-1.37c-.4-.4-.92-.59-1.43-.59-.52 0-1.04.2-1.43.59L10.3 9.45l-7.72 7.72c-.78.78-.78 2.05 0 2.83L4 21.41c.39.39.9.59 1.41.59.51 0 1.02-.2 1.41-.59l7.78-7.78 2.81-2.81c.8-.78.8-2.07 0-2.86zM5.41 20L4 18.59l7.72-7.72 1.47 1.35L5.41 20z\"/>\n",
              "  </svg>\n",
              "      </button>\n",
              "      \n",
              "  <style>\n",
              "    .colab-df-container {\n",
              "      display:flex;\n",
              "      flex-wrap:wrap;\n",
              "      gap: 12px;\n",
              "    }\n",
              "\n",
              "    .colab-df-convert {\n",
              "      background-color: #E8F0FE;\n",
              "      border: none;\n",
              "      border-radius: 50%;\n",
              "      cursor: pointer;\n",
              "      display: none;\n",
              "      fill: #1967D2;\n",
              "      height: 32px;\n",
              "      padding: 0 0 0 0;\n",
              "      width: 32px;\n",
              "    }\n",
              "\n",
              "    .colab-df-convert:hover {\n",
              "      background-color: #E2EBFA;\n",
              "      box-shadow: 0px 1px 2px rgba(60, 64, 67, 0.3), 0px 1px 3px 1px rgba(60, 64, 67, 0.15);\n",
              "      fill: #174EA6;\n",
              "    }\n",
              "\n",
              "    [theme=dark] .colab-df-convert {\n",
              "      background-color: #3B4455;\n",
              "      fill: #D2E3FC;\n",
              "    }\n",
              "\n",
              "    [theme=dark] .colab-df-convert:hover {\n",
              "      background-color: #434B5C;\n",
              "      box-shadow: 0px 1px 3px 1px rgba(0, 0, 0, 0.15);\n",
              "      filter: drop-shadow(0px 1px 2px rgba(0, 0, 0, 0.3));\n",
              "      fill: #FFFFFF;\n",
              "    }\n",
              "  </style>\n",
              "\n",
              "      <script>\n",
              "        const buttonEl =\n",
              "          document.querySelector('#df-750d8e17-70eb-4b7c-800c-01fe0a161849 button.colab-df-convert');\n",
              "        buttonEl.style.display =\n",
              "          google.colab.kernel.accessAllowed ? 'block' : 'none';\n",
              "\n",
              "        async function convertToInteractive(key) {\n",
              "          const element = document.querySelector('#df-750d8e17-70eb-4b7c-800c-01fe0a161849');\n",
              "          const dataTable =\n",
              "            await google.colab.kernel.invokeFunction('convertToInteractive',\n",
              "                                                     [key], {});\n",
              "          if (!dataTable) return;\n",
              "\n",
              "          const docLinkHtml = 'Like what you see? Visit the ' +\n",
              "            '<a target=\"_blank\" href=https://colab.research.google.com/notebooks/data_table.ipynb>data table notebook</a>'\n",
              "            + ' to learn more about interactive tables.';\n",
              "          element.innerHTML = '';\n",
              "          dataTable['output_type'] = 'display_data';\n",
              "          await google.colab.output.renderOutput(dataTable, element);\n",
              "          const docLink = document.createElement('div');\n",
              "          docLink.innerHTML = docLinkHtml;\n",
              "          element.appendChild(docLink);\n",
              "        }\n",
              "      </script>\n",
              "    </div>\n",
              "  </div>\n",
              "  "
            ]
          },
          "metadata": {},
          "execution_count": 2
        }
      ]
    },
    {
      "cell_type": "code",
      "source": [
        "df.isnull().sum() #checking for null values"
      ],
      "metadata": {
        "colab": {
          "base_uri": "https://localhost:8080/"
        },
        "id": "Jr7fzUIOVcVd",
        "outputId": "31c55968-0ad9-4f51-81f8-74e57c4ab98f"
      },
      "execution_count": null,
      "outputs": [
        {
          "output_type": "execute_result",
          "data": {
            "text/plain": [
              "User ID            0\n",
              "Gender             0\n",
              "Age                0\n",
              "EstimatedSalary    0\n",
              "Purchased          0\n",
              "dtype: int64"
            ]
          },
          "metadata": {},
          "execution_count": 3
        }
      ]
    },
    {
      "cell_type": "code",
      "source": [
        "df.duplicated().sum() #checking for duplicated values"
      ],
      "metadata": {
        "colab": {
          "base_uri": "https://localhost:8080/"
        },
        "id": "4gojWeM2Wh8T",
        "outputId": "bd3c803b-1c2b-44a0-b69e-5b0644035e23"
      },
      "execution_count": null,
      "outputs": [
        {
          "output_type": "execute_result",
          "data": {
            "text/plain": [
              "0"
            ]
          },
          "metadata": {},
          "execution_count": 4
        }
      ]
    },
    {
      "cell_type": "code",
      "source": [
        "df.drop(columns=['User ID'],inplace=True) #droping column user_id and inplace is added to make the changes permanent"
      ],
      "metadata": {
        "id": "ftKljX0lWk3T"
      },
      "execution_count": null,
      "outputs": []
    },
    {
      "cell_type": "code",
      "source": [
        "df.info()#the gender column is not numerical so we have to convert it into numerical\n",
        "#One way of converting non-numerical values into numerical is by using get_dummies by pandas"
      ],
      "metadata": {
        "colab": {
          "base_uri": "https://localhost:8080/"
        },
        "id": "m8NaTZrCXZFI",
        "outputId": "b1e1f92d-6dea-47f9-948f-3586caf54d87"
      },
      "execution_count": null,
      "outputs": [
        {
          "output_type": "stream",
          "name": "stdout",
          "text": [
            "<class 'pandas.core.frame.DataFrame'>\n",
            "RangeIndex: 400 entries, 0 to 399\n",
            "Data columns (total 4 columns):\n",
            " #   Column           Non-Null Count  Dtype \n",
            "---  ------           --------------  ----- \n",
            " 0   Gender           400 non-null    object\n",
            " 1   Age              400 non-null    int64 \n",
            " 2   EstimatedSalary  400 non-null    int64 \n",
            " 3   Purchased        400 non-null    int64 \n",
            "dtypes: int64(3), object(1)\n",
            "memory usage: 12.6+ KB\n"
          ]
        }
      ]
    },
    {
      "cell_type": "code",
      "source": [
        "# pd.get_dummies(df) #getting the dummy numerical values for columns with non-numerical values\n",
        "df = pd.get_dummies(df,drop_first=True)\n",
        "df"
      ],
      "metadata": {
        "colab": {
          "base_uri": "https://localhost:8080/",
          "height": 423
        },
        "id": "yKuD3zcTX84p",
        "outputId": "a4088c16-f278-49b5-f11d-6ce416e8d756"
      },
      "execution_count": null,
      "outputs": [
        {
          "output_type": "execute_result",
          "data": {
            "text/plain": [
              "     Age  EstimatedSalary  Purchased  Gender_Male\n",
              "0     19            19000          0            1\n",
              "1     35            20000          0            1\n",
              "2     26            43000          0            0\n",
              "3     27            57000          0            0\n",
              "4     19            76000          0            1\n",
              "..   ...              ...        ...          ...\n",
              "395   46            41000          1            0\n",
              "396   51            23000          1            1\n",
              "397   50            20000          1            0\n",
              "398   36            33000          0            1\n",
              "399   49            36000          1            0\n",
              "\n",
              "[400 rows x 4 columns]"
            ],
            "text/html": [
              "\n",
              "  <div id=\"df-6349a85b-889e-4c23-b9ec-b590c23210ad\">\n",
              "    <div class=\"colab-df-container\">\n",
              "      <div>\n",
              "<style scoped>\n",
              "    .dataframe tbody tr th:only-of-type {\n",
              "        vertical-align: middle;\n",
              "    }\n",
              "\n",
              "    .dataframe tbody tr th {\n",
              "        vertical-align: top;\n",
              "    }\n",
              "\n",
              "    .dataframe thead th {\n",
              "        text-align: right;\n",
              "    }\n",
              "</style>\n",
              "<table border=\"1\" class=\"dataframe\">\n",
              "  <thead>\n",
              "    <tr style=\"text-align: right;\">\n",
              "      <th></th>\n",
              "      <th>Age</th>\n",
              "      <th>EstimatedSalary</th>\n",
              "      <th>Purchased</th>\n",
              "      <th>Gender_Male</th>\n",
              "    </tr>\n",
              "  </thead>\n",
              "  <tbody>\n",
              "    <tr>\n",
              "      <th>0</th>\n",
              "      <td>19</td>\n",
              "      <td>19000</td>\n",
              "      <td>0</td>\n",
              "      <td>1</td>\n",
              "    </tr>\n",
              "    <tr>\n",
              "      <th>1</th>\n",
              "      <td>35</td>\n",
              "      <td>20000</td>\n",
              "      <td>0</td>\n",
              "      <td>1</td>\n",
              "    </tr>\n",
              "    <tr>\n",
              "      <th>2</th>\n",
              "      <td>26</td>\n",
              "      <td>43000</td>\n",
              "      <td>0</td>\n",
              "      <td>0</td>\n",
              "    </tr>\n",
              "    <tr>\n",
              "      <th>3</th>\n",
              "      <td>27</td>\n",
              "      <td>57000</td>\n",
              "      <td>0</td>\n",
              "      <td>0</td>\n",
              "    </tr>\n",
              "    <tr>\n",
              "      <th>4</th>\n",
              "      <td>19</td>\n",
              "      <td>76000</td>\n",
              "      <td>0</td>\n",
              "      <td>1</td>\n",
              "    </tr>\n",
              "    <tr>\n",
              "      <th>...</th>\n",
              "      <td>...</td>\n",
              "      <td>...</td>\n",
              "      <td>...</td>\n",
              "      <td>...</td>\n",
              "    </tr>\n",
              "    <tr>\n",
              "      <th>395</th>\n",
              "      <td>46</td>\n",
              "      <td>41000</td>\n",
              "      <td>1</td>\n",
              "      <td>0</td>\n",
              "    </tr>\n",
              "    <tr>\n",
              "      <th>396</th>\n",
              "      <td>51</td>\n",
              "      <td>23000</td>\n",
              "      <td>1</td>\n",
              "      <td>1</td>\n",
              "    </tr>\n",
              "    <tr>\n",
              "      <th>397</th>\n",
              "      <td>50</td>\n",
              "      <td>20000</td>\n",
              "      <td>1</td>\n",
              "      <td>0</td>\n",
              "    </tr>\n",
              "    <tr>\n",
              "      <th>398</th>\n",
              "      <td>36</td>\n",
              "      <td>33000</td>\n",
              "      <td>0</td>\n",
              "      <td>1</td>\n",
              "    </tr>\n",
              "    <tr>\n",
              "      <th>399</th>\n",
              "      <td>49</td>\n",
              "      <td>36000</td>\n",
              "      <td>1</td>\n",
              "      <td>0</td>\n",
              "    </tr>\n",
              "  </tbody>\n",
              "</table>\n",
              "<p>400 rows × 4 columns</p>\n",
              "</div>\n",
              "      <button class=\"colab-df-convert\" onclick=\"convertToInteractive('df-6349a85b-889e-4c23-b9ec-b590c23210ad')\"\n",
              "              title=\"Convert this dataframe to an interactive table.\"\n",
              "              style=\"display:none;\">\n",
              "        \n",
              "  <svg xmlns=\"http://www.w3.org/2000/svg\" height=\"24px\"viewBox=\"0 0 24 24\"\n",
              "       width=\"24px\">\n",
              "    <path d=\"M0 0h24v24H0V0z\" fill=\"none\"/>\n",
              "    <path d=\"M18.56 5.44l.94 2.06.94-2.06 2.06-.94-2.06-.94-.94-2.06-.94 2.06-2.06.94zm-11 1L8.5 8.5l.94-2.06 2.06-.94-2.06-.94L8.5 2.5l-.94 2.06-2.06.94zm10 10l.94 2.06.94-2.06 2.06-.94-2.06-.94-.94-2.06-.94 2.06-2.06.94z\"/><path d=\"M17.41 7.96l-1.37-1.37c-.4-.4-.92-.59-1.43-.59-.52 0-1.04.2-1.43.59L10.3 9.45l-7.72 7.72c-.78.78-.78 2.05 0 2.83L4 21.41c.39.39.9.59 1.41.59.51 0 1.02-.2 1.41-.59l7.78-7.78 2.81-2.81c.8-.78.8-2.07 0-2.86zM5.41 20L4 18.59l7.72-7.72 1.47 1.35L5.41 20z\"/>\n",
              "  </svg>\n",
              "      </button>\n",
              "      \n",
              "  <style>\n",
              "    .colab-df-container {\n",
              "      display:flex;\n",
              "      flex-wrap:wrap;\n",
              "      gap: 12px;\n",
              "    }\n",
              "\n",
              "    .colab-df-convert {\n",
              "      background-color: #E8F0FE;\n",
              "      border: none;\n",
              "      border-radius: 50%;\n",
              "      cursor: pointer;\n",
              "      display: none;\n",
              "      fill: #1967D2;\n",
              "      height: 32px;\n",
              "      padding: 0 0 0 0;\n",
              "      width: 32px;\n",
              "    }\n",
              "\n",
              "    .colab-df-convert:hover {\n",
              "      background-color: #E2EBFA;\n",
              "      box-shadow: 0px 1px 2px rgba(60, 64, 67, 0.3), 0px 1px 3px 1px rgba(60, 64, 67, 0.15);\n",
              "      fill: #174EA6;\n",
              "    }\n",
              "\n",
              "    [theme=dark] .colab-df-convert {\n",
              "      background-color: #3B4455;\n",
              "      fill: #D2E3FC;\n",
              "    }\n",
              "\n",
              "    [theme=dark] .colab-df-convert:hover {\n",
              "      background-color: #434B5C;\n",
              "      box-shadow: 0px 1px 3px 1px rgba(0, 0, 0, 0.15);\n",
              "      filter: drop-shadow(0px 1px 2px rgba(0, 0, 0, 0.3));\n",
              "      fill: #FFFFFF;\n",
              "    }\n",
              "  </style>\n",
              "\n",
              "      <script>\n",
              "        const buttonEl =\n",
              "          document.querySelector('#df-6349a85b-889e-4c23-b9ec-b590c23210ad button.colab-df-convert');\n",
              "        buttonEl.style.display =\n",
              "          google.colab.kernel.accessAllowed ? 'block' : 'none';\n",
              "\n",
              "        async function convertToInteractive(key) {\n",
              "          const element = document.querySelector('#df-6349a85b-889e-4c23-b9ec-b590c23210ad');\n",
              "          const dataTable =\n",
              "            await google.colab.kernel.invokeFunction('convertToInteractive',\n",
              "                                                     [key], {});\n",
              "          if (!dataTable) return;\n",
              "\n",
              "          const docLinkHtml = 'Like what you see? Visit the ' +\n",
              "            '<a target=\"_blank\" href=https://colab.research.google.com/notebooks/data_table.ipynb>data table notebook</a>'\n",
              "            + ' to learn more about interactive tables.';\n",
              "          element.innerHTML = '';\n",
              "          dataTable['output_type'] = 'display_data';\n",
              "          await google.colab.output.renderOutput(dataTable, element);\n",
              "          const docLink = document.createElement('div');\n",
              "          docLink.innerHTML = docLinkHtml;\n",
              "          element.appendChild(docLink);\n",
              "        }\n",
              "      </script>\n",
              "    </div>\n",
              "  </div>\n",
              "  "
            ]
          },
          "metadata": {},
          "execution_count": 7
        }
      ]
    },
    {
      "cell_type": "code",
      "source": [
        "df.info()#checking if all the values are numerical"
      ],
      "metadata": {
        "colab": {
          "base_uri": "https://localhost:8080/"
        },
        "id": "zFrI4CA0ZBUi",
        "outputId": "6ec5fb69-5bf1-4595-8e20-bd37a09f1af2"
      },
      "execution_count": null,
      "outputs": [
        {
          "output_type": "stream",
          "name": "stdout",
          "text": [
            "<class 'pandas.core.frame.DataFrame'>\n",
            "RangeIndex: 400 entries, 0 to 399\n",
            "Data columns (total 4 columns):\n",
            " #   Column           Non-Null Count  Dtype\n",
            "---  ------           --------------  -----\n",
            " 0   Age              400 non-null    int64\n",
            " 1   EstimatedSalary  400 non-null    int64\n",
            " 2   Purchased        400 non-null    int64\n",
            " 3   Gender_Male      400 non-null    uint8\n",
            "dtypes: int64(3), uint8(1)\n",
            "memory usage: 9.9 KB\n"
          ]
        }
      ]
    },
    {
      "cell_type": "code",
      "source": [
        "df['Purchased'].value_counts()#checking how many would purchase and how many would not"
      ],
      "metadata": {
        "colab": {
          "base_uri": "https://localhost:8080/"
        },
        "id": "A8lMKKmyYLTI",
        "outputId": "317cd0e2-0e16-4c48-fdf2-539a7b485dc9"
      },
      "execution_count": null,
      "outputs": [
        {
          "output_type": "execute_result",
          "data": {
            "text/plain": [
              "0    257\n",
              "1    143\n",
              "Name: Purchased, dtype: int64"
            ]
          },
          "metadata": {},
          "execution_count": 9
        }
      ]
    },
    {
      "cell_type": "code",
      "source": [
        "df['Purchased'].value_counts().plot(kind='bar') #ploting how many would purchase and how many would not\n",
        "plt.show()"
      ],
      "metadata": {
        "colab": {
          "base_uri": "https://localhost:8080/",
          "height": 425
        },
        "id": "xxnET_JcYgXU",
        "outputId": "293a0a33-1c0b-470d-c6f7-365243e9682b"
      },
      "execution_count": null,
      "outputs": [
        {
          "output_type": "display_data",
          "data": {
            "text/plain": [
              "<Figure size 640x480 with 1 Axes>"
            ],
            "image/png": "[encoded data removed]"
          },
          "metadata": {}
        }
      ]
    },
    {
      "cell_type": "code",
      "source": [],
      "metadata": {
        "id": "m_Loas5_wgsZ"
      },
      "execution_count": null,
      "outputs": []
    },
    {
      "cell_type": "code",
      "source": [
        "X = df.iloc[:,[0,1,3]].values  #setting the input and output values from the dataset\n",
        "Y = df.iloc[:,2].values"
      ],
      "metadata": {
        "id": "Hyb5450JW-m4"
      },
      "execution_count": null,
      "outputs": []
    },
    {
      "cell_type": "code",
      "source": [
        "from sklearn.model_selection import train_test_split"
      ],
      "metadata": {
        "id": "ZqpuSZZiuP6P"
      },
      "execution_count": null,
      "outputs": []
    },
    {
      "cell_type": "code",
      "source": [
        "X_train,X_test,Y_train,Y_test=train_test_split(X,Y,random_state=2,test_size=0.2) #traning ans testing the data"
      ],
      "metadata": {
        "id": "Ykxg4jZAuTSw"
      },
      "execution_count": null,
      "outputs": []
    },
    {
      "cell_type": "code",
      "source": [
        "X.shape"
      ],
      "metadata": {
        "colab": {
          "base_uri": "https://localhost:8080/"
        },
        "id": "f2-RzYB1vFYU",
        "outputId": "98300afb-48e0-400f-b4d7-d48feb95a972"
      },
      "execution_count": null,
      "outputs": [
        {
          "output_type": "execute_result",
          "data": {
            "text/plain": [
              "(400, 3)"
            ]
          },
          "metadata": {},
          "execution_count": 14
        }
      ]
    },
    {
      "cell_type": "code",
      "source": [
        "X_train.shape"
      ],
      "metadata": {
        "colab": {
          "base_uri": "https://localhost:8080/"
        },
        "id": "dLVGN1BOvZ0D",
        "outputId": "f6b813d5-1044-441a-e767-de3d2168f41b"
      },
      "execution_count": null,
      "outputs": [
        {
          "output_type": "execute_result",
          "data": {
            "text/plain": [
              "(320, 3)"
            ]
          },
          "metadata": {},
          "execution_count": 15
        }
      ]
    },
    {
      "cell_type": "code",
      "source": [
        "X_test.shape"
      ],
      "metadata": {
        "colab": {
          "base_uri": "https://localhost:8080/"
        },
        "id": "WcTiSJbWviQ6",
        "outputId": "9f01e52b-77e1-4490-ea62-eea1670e4abc"
      },
      "execution_count": null,
      "outputs": [
        {
          "output_type": "execute_result",
          "data": {
            "text/plain": [
              "(80, 3)"
            ]
          },
          "metadata": {},
          "execution_count": 16
        }
      ]
    },
    {
      "cell_type": "code",
      "source": [
        "0.2*400"
      ],
      "metadata": {
        "colab": {
          "base_uri": "https://localhost:8080/"
        },
        "id": "B--4EXK2vp8C",
        "outputId": "75cc01a5-e7ce-4bfe-9867-70ac63849ccb"
      },
      "execution_count": null,
      "outputs": [
        {
          "output_type": "execute_result",
          "data": {
            "text/plain": [
              "80.0"
            ]
          },
          "metadata": {},
          "execution_count": 17
        }
      ]
    },
    {
      "cell_type": "code",
      "source": [
        "from sklearn.preprocessing import StandardScaler"
      ],
      "metadata": {
        "id": "vlTIkHt-vwMc"
      },
      "execution_count": null,
      "outputs": []
    },
    {
      "cell_type": "code",
      "source": [
        "X_train"
      ],
      "metadata": {
        "colab": {
          "base_uri": "https://localhost:8080/"
        },
        "id": "YB_qOqP-2q4p",
        "outputId": "f786728a-e4df-485b-d639-1ba44d117fe7"
      },
      "execution_count": null,
      "outputs": [
        {
          "output_type": "execute_result",
          "data": {
            "text/plain": [
              "array([[    47,  47000,      0],\n",
              "       [    36,  99000,      1],\n",
              "       [    27,  57000,      0],\n",
              "       [    48,  90000,      1],\n",
              "       [    28,  89000,      1],\n",
              "       [    42,  70000,      0],\n",
              "       [    48, 141000,      1],\n",
              "       [    41,  59000,      1],\n",
              "       [    56,  60000,      1],\n",
              "       [    36, 144000,      1],\n",
              "       [    56, 104000,      0],\n",
              "       [    24,  19000,      1],\n",
              "       [    59,  88000,      0],\n",
              "       [    51, 134000,      0],\n",
              "       [    26,  80000,      1],\n",
              "       [    34,  43000,      0],\n",
              "       [    20,  86000,      1],\n",
              "       [    32,  18000,      1],\n",
              "       [    41,  45000,      1],\n",
              "       [    38,  50000,      0],\n",
              "       [    38,  71000,      1],\n",
              "       [    37,  52000,      1],\n",
              "       [    31,  18000,      1],\n",
              "       [    38,  80000,      0],\n",
              "       [    41,  72000,      0],\n",
              "       [    33,  31000,      1],\n",
              "       [    30,  17000,      1],\n",
              "       [    35,  47000,      0],\n",
              "       [    26,  86000,      1],\n",
              "       [    37, 144000,      1],\n",
              "       [    38,  71000,      1],\n",
              "       [    26,  16000,      1],\n",
              "       [    49,  88000,      1],\n",
              "       [    35,  27000,      1],\n",
              "       [    52,  38000,      0],\n",
              "       [    23,  28000,      0],\n",
              "       [    28,  37000,      0],\n",
              "       [    58,  47000,      0],\n",
              "       [    47,  50000,      0],\n",
              "       [    26,  80000,      0],\n",
              "       [    38,  61000,      1],\n",
              "       [    46,  22000,      0],\n",
              "       [    35,  57000,      0],\n",
              "       [    47, 113000,      0],\n",
              "       [    41,  63000,      0],\n",
              "       [    35,  50000,      1],\n",
              "       [    35,  22000,      1],\n",
              "       [    53,  34000,      0],\n",
              "       [    37,  74000,      1],\n",
              "       [    29,  47000,      0],\n",
              "       [    37,  70000,      1],\n",
              "       [    35,  73000,      1],\n",
              "       [    40,  59000,      1],\n",
              "       [    35,  79000,      1],\n",
              "       [    39,  71000,      1],\n",
              "       [    58, 144000,      1],\n",
              "       [    27,  20000,      1],\n",
              "       [    41,  80000,      0],\n",
              "       [    59,  29000,      0],\n",
              "       [    26,  52000,      0],\n",
              "       [    40,  75000,      1],\n",
              "       [    35,  38000,      1],\n",
              "       [    31,  71000,      0],\n",
              "       [    40,  72000,      0],\n",
              "       [    42,  65000,      1],\n",
              "       [    26,  32000,      1],\n",
              "       [    37, 146000,      0],\n",
              "       [    49,  65000,      1],\n",
              "       [    47, 105000,      1],\n",
              "       [    37,  79000,      1],\n",
              "       [    32,  18000,      1],\n",
              "       [    26,  35000,      0],\n",
              "       [    30, 116000,      0],\n",
              "       [    49,  89000,      1],\n",
              "       [    54,  26000,      0],\n",
              "       [    45,  22000,      0],\n",
              "       [    31,  34000,      0],\n",
              "       [    50,  88000,      0],\n",
              "       [    35,  20000,      1],\n",
              "       [    21,  88000,      1],\n",
              "       [    27,  31000,      0],\n",
              "       [    37,  71000,      0],\n",
              "       [    41,  72000,      0],\n",
              "       [    47,  23000,      1],\n",
              "       [    27,  58000,      0],\n",
              "       [    19,  76000,      1],\n",
              "       [    19,  21000,      0],\n",
              "       [    45, 131000,      0],\n",
              "       [    37,  80000,      0],\n",
              "       [    21,  72000,      1],\n",
              "       [    31, 118000,      0],\n",
              "       [    35,  61000,      1],\n",
              "       [    34, 115000,      1],\n",
              "       [    43, 112000,      0],\n",
              "       [    31,  76000,      1],\n",
              "       [    22,  55000,      0],\n",
              "       [    27,  84000,      0],\n",
              "       [    46,  79000,      1],\n",
              "       [    58,  38000,      0],\n",
              "       [    46,  59000,      1],\n",
              "       [    40,  78000,      1],\n",
              "       [    20,  49000,      1],\n",
              "       [    35,  75000,      1],\n",
              "       [    24,  27000,      0],\n",
              "       [    35,  55000,      1],\n",
              "       [    39,  73000,      0],\n",
              "       [    28,  85000,      0],\n",
              "       [    59,  83000,      0],\n",
              "       [    18,  82000,      1],\n",
              "       [    59,  42000,      0],\n",
              "       [    60, 108000,      0],\n",
              "       [    46,  28000,      1],\n",
              "       [    42,  54000,      1],\n",
              "       [    38,  61000,      1],\n",
              "       [    53,  82000,      0],\n",
              "       [    36,  50000,      0],\n",
              "       [    40,  61000,      1],\n",
              "       [    33, 149000,      0],\n",
              "       [    39,  77000,      1],\n",
              "       [    40,  47000,      1],\n",
              "       [    48,  33000,      1],\n",
              "       [    36,  75000,      0],\n",
              "       [    37,  80000,      0],\n",
              "       [    42,  53000,      0],\n",
              "       [    34,  25000,      0],\n",
              "       [    47,  43000,      1],\n",
              "       [    28,  84000,      0],\n",
              "       [    37,  55000,      1],\n",
              "       [    28,  55000,      0],\n",
              "       [    19,  85000,      1],\n",
              "       [    29,  28000,      0],\n",
              "       [    28,  59000,      1],\n",
              "       [    48,  96000,      0],\n",
              "       [    21,  68000,      0],\n",
              "       [    27,  58000,      1],\n",
              "       [    38,  51000,      1],\n",
              "       [    31,  58000,      1],\n",
              "       [    26,  17000,      0],\n",
              "       [    58,  23000,      0],\n",
              "       [    31,  15000,      0],\n",
              "       [    40,  57000,      1],\n",
              "       [    47, 144000,      0],\n",
              "       [    50,  36000,      0],\n",
              "       [    36,  52000,      1],\n",
              "       [    55, 130000,      0],\n",
              "       [    49,  28000,      1],\n",
              "       [    38, 113000,      0],\n",
              "       [    33,  60000,      0],\n",
              "       [    55,  39000,      1],\n",
              "       [    41,  87000,      1],\n",
              "       [    27,  17000,      0],\n",
              "       [    54, 108000,      0],\n",
              "       [    22,  81000,      1],\n",
              "       [    38,  65000,      0],\n",
              "       [    39,  42000,      1],\n",
              "       [    40, 107000,      1],\n",
              "       [    42,  64000,      1],\n",
              "       [    33,  69000,      0],\n",
              "       [    49, 141000,      0],\n",
              "       [    35,  65000,      0],\n",
              "       [    30,  49000,      1],\n",
              "       [    50,  20000,      0],\n",
              "       [    23,  20000,      1],\n",
              "       [    57,  60000,      1],\n",
              "       [    57,  74000,      1],\n",
              "       [    42,  75000,      0],\n",
              "       [    51,  23000,      1],\n",
              "       [    33,  28000,      0],\n",
              "       [    30, 135000,      1],\n",
              "       [    35, 108000,      1],\n",
              "       [    38,  50000,      0],\n",
              "       [    40,  65000,      1],\n",
              "       [    32, 135000,      0],\n",
              "       [    28,  79000,      1],\n",
              "       [    18,  86000,      0],\n",
              "       [    24,  89000,      0],\n",
              "       [    40,  75000,      0],\n",
              "       [    52,  21000,      0],\n",
              "       [    37,  93000,      0],\n",
              "       [    39, 134000,      1],\n",
              "       [    20,  36000,      0],\n",
              "       [    40,  57000,      1],\n",
              "       [    19,  25000,      1],\n",
              "       [    46,  88000,      1],\n",
              "       [    36, 118000,      1],\n",
              "       [    27,  89000,      1],\n",
              "       [    25,  33000,      1],\n",
              "       [    52, 138000,      0],\n",
              "       [    46,  32000,      0],\n",
              "       [    46,  74000,      0],\n",
              "       [    19,  26000,      0],\n",
              "       [    38, 112000,      0],\n",
              "       [    47,  49000,      0],\n",
              "       [    60,  83000,      1],\n",
              "       [    60,  42000,      1],\n",
              "       [    48,  33000,      1],\n",
              "       [    39, 122000,      1],\n",
              "       [    28,  87000,      0],\n",
              "       [    25,  79000,      1],\n",
              "       [    42,  90000,      0],\n",
              "       [    39,  75000,      0],\n",
              "       [    40,  71000,      1],\n",
              "       [    59, 143000,      1],\n",
              "       [    37,  57000,      0],\n",
              "       [    35,  97000,      0],\n",
              "       [    23,  63000,      1],\n",
              "       [    49,  74000,      1],\n",
              "       [    41,  72000,      0],\n",
              "       [    39,  71000,      0],\n",
              "       [    48,  35000,      0],\n",
              "       [    32, 120000,      1],\n",
              "       [    26,  15000,      1],\n",
              "       [    51, 146000,      0],\n",
              "       [    23,  66000,      0],\n",
              "       [    19,  19000,      1],\n",
              "       [    47,  30000,      0],\n",
              "       [    60,  46000,      0],\n",
              "       [    44,  39000,      0],\n",
              "       [    25,  22000,      1],\n",
              "       [    33,  41000,      0],\n",
              "       [    29,  61000,      1],\n",
              "       [    53, 143000,      0],\n",
              "       [    42, 104000,      1],\n",
              "       [    38,  55000,      0],\n",
              "       [    26,  30000,      1],\n",
              "       [    30,  89000,      1],\n",
              "       [    39, 106000,      1],\n",
              "       [    32, 117000,      0],\n",
              "       [    39, 134000,      0],\n",
              "       [    40, 142000,      0],\n",
              "       [    53, 104000,      0],\n",
              "       [    20,  74000,      1],\n",
              "       [    35,  53000,      1],\n",
              "       [    39,  96000,      1],\n",
              "       [    47,  25000,      1],\n",
              "       [    35,  60000,      0],\n",
              "       [    60,  34000,      1],\n",
              "       [    42,  80000,      0],\n",
              "       [    36, 125000,      1],\n",
              "       [    46,  41000,      0],\n",
              "       [    28, 123000,      1],\n",
              "       [    39,  61000,      0],\n",
              "       [    25,  87000,      1],\n",
              "       [    39,  42000,      1],\n",
              "       [    49,  36000,      0],\n",
              "       [    48, 131000,      0],\n",
              "       [    23,  48000,      0],\n",
              "       [    48,  29000,      0],\n",
              "       [    24,  55000,      1],\n",
              "       [    41,  72000,      1],\n",
              "       [    35,  50000,      0],\n",
              "       [    30, 107000,      1],\n",
              "       [    54, 104000,      0],\n",
              "       [    27,  90000,      1],\n",
              "       [    42,  73000,      1],\n",
              "       [    28,  59000,      0],\n",
              "       [    50,  44000,      0],\n",
              "       [    18,  52000,      1],\n",
              "       [    49,  28000,      1],\n",
              "       [    41,  79000,      1],\n",
              "       [    30,  15000,      1],\n",
              "       [    35,  25000,      0],\n",
              "       [    35,  88000,      1],\n",
              "       [    48, 134000,      0],\n",
              "       [    31,  66000,      1],\n",
              "       [    33, 113000,      0],\n",
              "       [    41,  52000,      1],\n",
              "       [    57, 122000,      0],\n",
              "       [    49,  86000,      1],\n",
              "       [    59,  76000,      0],\n",
              "       [    20,  82000,      0],\n",
              "       [    36,  63000,      0],\n",
              "       [    31,  89000,      0],\n",
              "       [    52, 114000,      0],\n",
              "       [    49,  39000,      0],\n",
              "       [    57,  33000,      0],\n",
              "       [    30,  87000,      1],\n",
              "       [    24,  32000,      0],\n",
              "       [    46,  82000,      0],\n",
              "       [    29,  83000,      0],\n",
              "       [    30,  80000,      1],\n",
              "       [    27, 137000,      0],\n",
              "       [    37,  72000,      1],\n",
              "       [    52, 150000,      1],\n",
              "       [    37,  75000,      1],\n",
              "       [    37, 137000,      0],\n",
              "       [    30,  79000,      0],\n",
              "       [    26,  81000,      1],\n",
              "       [    41,  60000,      0],\n",
              "       [    48,  30000,      0],\n",
              "       [    52,  90000,      0],\n",
              "       [    22,  18000,      1],\n",
              "       [    28,  44000,      0],\n",
              "       [    26,  72000,      0],\n",
              "       [    42,  54000,      1],\n",
              "       [    18,  44000,      0],\n",
              "       [    42,  79000,      0],\n",
              "       [    35,  77000,      0],\n",
              "       [    32,  86000,      0],\n",
              "       [    34,  43000,      1],\n",
              "       [    35,  71000,      0],\n",
              "       [    37,  77000,      1],\n",
              "       [    35,  75000,      1],\n",
              "       [    41,  51000,      0],\n",
              "       [    46,  96000,      0],\n",
              "       [    48, 138000,      0],\n",
              "       [    36,  60000,      1],\n",
              "       [    27,  54000,      0],\n",
              "       [    35,  58000,      1],\n",
              "       [    39,  59000,      0],\n",
              "       [    35,  44000,      0],\n",
              "       [    37,  33000,      0],\n",
              "       [    35,  72000,      0],\n",
              "       [    43, 129000,      1],\n",
              "       [    34, 112000,      1],\n",
              "       [    46, 117000,      1],\n",
              "       [    48,  41000,      1],\n",
              "       [    20,  23000,      0],\n",
              "       [    29,  80000,      1],\n",
              "       [    29, 148000,      1]])"
            ]
          },
          "metadata": {},
          "execution_count": 19
        }
      ]
    },
    {
      "cell_type": "code",
      "source": [
        "sc = StandardScaler()\n",
        "X_train_scale = sc.fit_transform(X_train)\n",
        "X_test_scale = sc.transform(X_test)"
      ],
      "metadata": {
        "id": "S2A8xoAvxmdH"
      },
      "execution_count": null,
      "outputs": []
    },
    {
      "cell_type": "code",
      "source": [
        "from sklearn.neighbors import KNeighborsClassifier  #importing the classifier"
      ],
      "metadata": {
        "id": "UxPx0btG2bFz"
      },
      "execution_count": null,
      "outputs": []
    },
    {
      "cell_type": "code",
      "source": [
        "model = KNeighborsClassifier(n_neighbors=17,metric='euclidean')"
      ],
      "metadata": {
        "id": "sG4atrG43gqH"
      },
      "execution_count": null,
      "outputs": []
    },
    {
      "cell_type": "code",
      "source": [
        "model.fit(X_train_scale,Y_train)"
      ],
      "metadata": {
        "colab": {
          "base_uri": "https://localhost:8080/",
          "height": 74
        },
        "id": "S-B0G8YR4TX4",
        "outputId": "021c8ce2-42ad-481e-b1e0-354487771d12"
      },
      "execution_count": null,
      "outputs": [
        {
          "output_type": "execute_result",
          "data": {
            "text/plain": [
              "KNeighborsClassifier(metric='euclidean', n_neighbors=17)"
            ],
            "text/html": [
              "<style>#sk-container-id-1 {color: black;background-color: white;}#sk-container-id-1 pre{padding: 0;}#sk-container-id-1 div.sk-toggleable {background-color: white;}#sk-container-id-1 label.sk-toggleable__label {cursor: pointer;display: block;width: 100%;margin-bottom: 0;padding: 0.3em;box-sizing: border-box;text-align: center;}#sk-container-id-1 label.sk-toggleable__label-arrow:before {content: \"▸\";float: left;margin-right: 0.25em;color: #696969;}#sk-container-id-1 label.sk-toggleable__label-arrow:hover:before {color: black;}#sk-container-id-1 div.sk-estimator:hover label.sk-toggleable__label-arrow:before {color: black;}#sk-container-id-1 div.sk-toggleable__content {max-height: 0;max-width: 0;overflow: hidden;text-align: left;background-color: #f0f8ff;}#sk-container-id-1 div.sk-toggleable__content pre {margin: 0.2em;color: black;border-radius: 0.25em;background-color: #f0f8ff;}#sk-container-id-1 input.sk-toggleable__control:checked~div.sk-toggleable__content {max-height: 200px;max-width: 100%;overflow: auto;}#sk-container-id-1 input.sk-toggleable__control:checked~label.sk-toggleable__label-arrow:before {content: \"▾\";}#sk-container-id-1 div.sk-estimator input.sk-toggleable__control:checked~label.sk-toggleable__label {background-color: #d4ebff;}#sk-container-id-1 div.sk-label input.sk-toggleable__control:checked~label.sk-toggleable__label {background-color: #d4ebff;}#sk-container-id-1 input.sk-hidden--visually {border: 0;clip: rect(1px 1px 1px 1px);clip: rect(1px, 1px, 1px, 1px);height: 1px;margin: -1px;overflow: hidden;padding: 0;position: absolute;width: 1px;}#sk-container-id-1 div.sk-estimator {font-family: monospace;background-color: #f0f8ff;border: 1px dotted black;border-radius: 0.25em;box-sizing: border-box;margin-bottom: 0.5em;}#sk-container-id-1 div.sk-estimator:hover {background-color: #d4ebff;}#sk-container-id-1 div.sk-parallel-item::after {content: \"\";width: 100%;border-bottom: 1px solid gray;flex-grow: 1;}#sk-container-id-1 div.sk-label:hover label.sk-toggleable__label {background-color: #d4ebff;}#sk-container-id-1 div.sk-serial::before {content: \"\";position: absolute;border-left: 1px solid gray;box-sizing: border-box;top: 0;bottom: 0;left: 50%;z-index: 0;}#sk-container-id-1 div.sk-serial {display: flex;flex-direction: column;align-items: center;background-color: white;padding-right: 0.2em;padding-left: 0.2em;position: relative;}#sk-container-id-1 div.sk-item {position: relative;z-index: 1;}#sk-container-id-1 div.sk-parallel {display: flex;align-items: stretch;justify-content: center;background-color: white;position: relative;}#sk-container-id-1 div.sk-item::before, #sk-container-id-1 div.sk-parallel-item::before {content: \"\";position: absolute;border-left: 1px solid gray;box-sizing: border-box;top: 0;bottom: 0;left: 50%;z-index: -1;}#sk-container-id-1 div.sk-parallel-item {display: flex;flex-direction: column;z-index: 1;position: relative;background-color: white;}#sk-container-id-1 div.sk-parallel-item:first-child::after {align-self: flex-end;width: 50%;}#sk-container-id-1 div.sk-parallel-item:last-child::after {align-self: flex-start;width: 50%;}#sk-container-id-1 div.sk-parallel-item:only-child::after {width: 0;}#sk-container-id-1 div.sk-dashed-wrapped {border: 1px dashed gray;margin: 0 0.4em 0.5em 0.4em;box-sizing: border-box;padding-bottom: 0.4em;background-color: white;}#sk-container-id-1 div.sk-label label {font-family: monospace;font-weight: bold;display: inline-block;line-height: 1.2em;}#sk-container-id-1 div.sk-label-container {text-align: center;}#sk-container-id-1 div.sk-container {/* jupyter's `normalize.less` sets `[hidden] { display: none; }` but bootstrap.min.css set `[hidden] { display: none !important; }` so we also need the `!important` here to be able to override the default hidden behavior on the sphinx rendered scikit-learn.org. See: https://github.com/scikit-learn/scikit-learn/issues/21755 */display: inline-block !important;position: relative;}#sk-container-id-1 div.sk-text-repr-fallback {display: none;}</style><div id=\"sk-container-id-1\" class=\"sk-top-container\"><div class=\"sk-text-repr-fallback\"><pre>KNeighborsClassifier(metric=&#x27;euclidean&#x27;, n_neighbors=17)</pre><b>In a Jupyter environment, please rerun this cell to show the HTML representation or trust the notebook. <br />On GitHub, the HTML representation is unable to render, please try loading this page with nbviewer.org.</b></div><div class=\"sk-container\" hidden><div class=\"sk-item\"><div class=\"sk-estimator sk-toggleable\"><input class=\"sk-toggleable__control sk-hidden--visually\" id=\"sk-estimator-id-1\" type=\"checkbox\" checked><label for=\"sk-estimator-id-1\" class=\"sk-toggleable__label sk-toggleable__label-arrow\">KNeighborsClassifier</label><div class=\"sk-toggleable__content\"><pre>KNeighborsClassifier(metric=&#x27;euclidean&#x27;, n_neighbors=17)</pre></div></div></div></div></div>"
            ]
          },
          "metadata": {},
          "execution_count": 23
        }
      ]
    },
    {
      "cell_type": "code",
      "source": [
        "y_p = model.predict(X_test_scale)\n",
        "model.predict([[19,19000,1]])"
      ],
      "metadata": {
        "colab": {
          "base_uri": "https://localhost:8080/"
        },
        "id": "asgMsa6Z47qH",
        "outputId": "c4e85e80-9599-47ea-e7fe-6a1c4e56ff56"
      },
      "execution_count": null,
      "outputs": [
        {
          "output_type": "execute_result",
          "data": {
            "text/plain": [
              "array([1])"
            ]
          },
          "metadata": {},
          "execution_count": 24
        }
      ]
    },
    {
      "cell_type": "code",
      "source": [
        "Y_test"
      ],
      "metadata": {
        "colab": {
          "base_uri": "https://localhost:8080/"
        },
        "id": "prJTxobw5FZq",
        "outputId": "055a70bf-5268-49b3-9528-3f4be4ec2cfd"
      },
      "execution_count": null,
      "outputs": [
        {
          "output_type": "execute_result",
          "data": {
            "text/plain": [
              "array([0, 0, 0, 0, 1, 1, 0, 0, 0, 1, 0, 0, 1, 0, 0, 0, 0, 1, 1, 0, 1, 1,\n",
              "       0, 0, 0, 1, 1, 0, 1, 1, 0, 0, 1, 0, 1, 1, 1, 0, 0, 1, 0, 0, 0, 0,\n",
              "       0, 1, 0, 1, 1, 0, 1, 1, 0, 0, 0, 0, 0, 1, 0, 0, 0, 1, 1, 0, 0, 1,\n",
              "       1, 0, 0, 1, 0, 1, 0, 0, 1, 0, 1, 0, 1, 0])"
            ]
          },
          "metadata": {},
          "execution_count": 25
        }
      ]
    },
    {
      "cell_type": "code",
      "source": [
        "from sklearn.metrics import accuracy_score,classification_report,confusion_matrix"
      ],
      "metadata": {
        "id": "9e_K-rpH5q1X"
      },
      "execution_count": null,
      "outputs": []
    },
    {
      "cell_type": "code",
      "source": [
        "accuracy_score(Y_test,y_p)"
      ],
      "metadata": {
        "colab": {
          "base_uri": "https://localhost:8080/"
        },
        "id": "1PoRbeU56Eu9",
        "outputId": "d2cd674e-077b-4ce7-9175-a5dfebbace13"
      },
      "execution_count": null,
      "outputs": [
        {
          "output_type": "execute_result",
          "data": {
            "text/plain": [
              "0.925"
            ]
          },
          "metadata": {},
          "execution_count": 27
        }
      ]
    },
    {
      "cell_type": "code",
      "source": [
        "pd.DataFrame(confusion_matrix(Y_test,y_p),index=['acutal_not_purchased','actual_purchased'],columns=['predicted_not_purchased','predicted_purchased'])"
      ],
      "metadata": {
        "colab": {
          "base_uri": "https://localhost:8080/",
          "height": 112
        },
        "id": "BuKk87b-m7jN",
        "outputId": "3929125a-c04f-4ffc-d843-6964ccc6d5ed"
      },
      "execution_count": null,
      "outputs": [
        {
          "output_type": "execute_result",
          "data": {
            "text/plain": [
              "                      predicted_not_purchased  predicted_purchased\n",
              "acutal_not_purchased                       46                    2\n",
              "actual_purchased                            4                   28"
            ],
            "text/html": [
              "\n",
              "  <div id=\"df-746c43af-fbee-4807-a838-d09f2d615849\">\n",
              "    <div class=\"colab-df-container\">\n",
              "      <div>\n",
              "<style scoped>\n",
              "    .dataframe tbody tr th:only-of-type {\n",
              "        vertical-align: middle;\n",
              "    }\n",
              "\n",
              "    .dataframe tbody tr th {\n",
              "        vertical-align: top;\n",
              "    }\n",
              "\n",
              "    .dataframe thead th {\n",
              "        text-align: right;\n",
              "    }\n",
              "</style>\n",
              "<table border=\"1\" class=\"dataframe\">\n",
              "  <thead>\n",
              "    <tr style=\"text-align: right;\">\n",
              "      <th></th>\n",
              "      <th>predicted_not_purchased</th>\n",
              "      <th>predicted_purchased</th>\n",
              "    </tr>\n",
              "  </thead>\n",
              "  <tbody>\n",
              "    <tr>\n",
              "      <th>acutal_not_purchased</th>\n",
              "      <td>46</td>\n",
              "      <td>2</td>\n",
              "    </tr>\n",
              "    <tr>\n",
              "      <th>actual_purchased</th>\n",
              "      <td>4</td>\n",
              "      <td>28</td>\n",
              "    </tr>\n",
              "  </tbody>\n",
              "</table>\n",
              "</div>\n",
              "      <button class=\"colab-df-convert\" onclick=\"convertToInteractive('df-746c43af-fbee-4807-a838-d09f2d615849')\"\n",
              "              title=\"Convert this dataframe to an interactive table.\"\n",
              "              style=\"display:none;\">\n",
              "        \n",
              "  <svg xmlns=\"http://www.w3.org/2000/svg\" height=\"24px\"viewBox=\"0 0 24 24\"\n",
              "       width=\"24px\">\n",
              "    <path d=\"M0 0h24v24H0V0z\" fill=\"none\"/>\n",
              "    <path d=\"M18.56 5.44l.94 2.06.94-2.06 2.06-.94-2.06-.94-.94-2.06-.94 2.06-2.06.94zm-11 1L8.5 8.5l.94-2.06 2.06-.94-2.06-.94L8.5 2.5l-.94 2.06-2.06.94zm10 10l.94 2.06.94-2.06 2.06-.94-2.06-.94-.94-2.06-.94 2.06-2.06.94z\"/><path d=\"M17.41 7.96l-1.37-1.37c-.4-.4-.92-.59-1.43-.59-.52 0-1.04.2-1.43.59L10.3 9.45l-7.72 7.72c-.78.78-.78 2.05 0 2.83L4 21.41c.39.39.9.59 1.41.59.51 0 1.02-.2 1.41-.59l7.78-7.78 2.81-2.81c.8-.78.8-2.07 0-2.86zM5.41 20L4 18.59l7.72-7.72 1.47 1.35L5.41 20z\"/>\n",
              "  </svg>\n",
              "      </button>\n",
              "      \n",
              "  <style>\n",
              "    .colab-df-container {\n",
              "      display:flex;\n",
              "      flex-wrap:wrap;\n",
              "      gap: 12px;\n",
              "    }\n",
              "\n",
              "    .colab-df-convert {\n",
              "      background-color: #E8F0FE;\n",
              "      border: none;\n",
              "      border-radius: 50%;\n",
              "      cursor: pointer;\n",
              "      display: none;\n",
              "      fill: #1967D2;\n",
              "      height: 32px;\n",
              "      padding: 0 0 0 0;\n",
              "      width: 32px;\n",
              "    }\n",
              "\n",
              "    .colab-df-convert:hover {\n",
              "      background-color: #E2EBFA;\n",
              "      box-shadow: 0px 1px 2px rgba(60, 64, 67, 0.3), 0px 1px 3px 1px rgba(60, 64, 67, 0.15);\n",
              "      fill: #174EA6;\n",
              "    }\n",
              "\n",
              "    [theme=dark] .colab-df-convert {\n",
              "      background-color: #3B4455;\n",
              "      fill: #D2E3FC;\n",
              "    }\n",
              "\n",
              "    [theme=dark] .colab-df-convert:hover {\n",
              "      background-color: #434B5C;\n",
              "      box-shadow: 0px 1px 3px 1px rgba(0, 0, 0, 0.15);\n",
              "      filter: drop-shadow(0px 1px 2px rgba(0, 0, 0, 0.3));\n",
              "      fill: #FFFFFF;\n",
              "    }\n",
              "  </style>\n",
              "\n",
              "      <script>\n",
              "        const buttonEl =\n",
              "          document.querySelector('#df-746c43af-fbee-4807-a838-d09f2d615849 button.colab-df-convert');\n",
              "        buttonEl.style.display =\n",
              "          google.colab.kernel.accessAllowed ? 'block' : 'none';\n",
              "\n",
              "        async function convertToInteractive(key) {\n",
              "          const element = document.querySelector('#df-746c43af-fbee-4807-a838-d09f2d615849');\n",
              "          const dataTable =\n",
              "            await google.colab.kernel.invokeFunction('convertToInteractive',\n",
              "                                                     [key], {});\n",
              "          if (!dataTable) return;\n",
              "\n",
              "          const docLinkHtml = 'Like what you see? Visit the ' +\n",
              "            '<a target=\"_blank\" href=https://colab.research.google.com/notebooks/data_table.ipynb>data table notebook</a>'\n",
              "            + ' to learn more about interactive tables.';\n",
              "          element.innerHTML = '';\n",
              "          dataTable['output_type'] = 'display_data';\n",
              "          await google.colab.output.renderOutput(dataTable, element);\n",
              "          const docLink = document.createElement('div');\n",
              "          docLink.innerHTML = docLinkHtml;\n",
              "          element.appendChild(docLink);\n",
              "        }\n",
              "      </script>\n",
              "    </div>\n",
              "  </div>\n",
              "  "
            ]
          },
          "metadata": {},
          "execution_count": 31
        }
      ]
    },
    {
      "cell_type": "code",
      "source": [
        "print(classification_report(Y_test,y_p))"
      ],
      "metadata": {
        "colab": {
          "base_uri": "https://localhost:8080/"
        },
        "id": "KYGCWkaw6Ulq",
        "outputId": "7cd46244-ea33-4a15-b09f-ea744280838f"
      },
      "execution_count": null,
      "outputs": [
        {
          "output_type": "stream",
          "name": "stdout",
          "text": [
            "              precision    recall  f1-score   support\n",
            "\n",
            "           0       0.92      0.96      0.94        48\n",
            "           1       0.93      0.88      0.90        32\n",
            "\n",
            "    accuracy                           0.93        80\n",
            "   macro avg       0.93      0.92      0.92        80\n",
            "weighted avg       0.93      0.93      0.92        80\n",
            "\n"
          ]
        }
      ]
    },
    {
      "cell_type": "code",
      "source": [
        "pred = model.predict([[   49, 36000,     0]])\n",
        "pred[0]"
      ],
      "metadata": {
        "colab": {
          "base_uri": "https://localhost:8080/"
        },
        "id": "1uJs-D5O6e7t",
        "outputId": "910f7cf0-8d24-4486-eae3-57777cb0767a"
      },
      "execution_count": null,
      "outputs": [
        {
          "output_type": "execute_result",
          "data": {
            "text/plain": [
              "1"
            ]
          },
          "metadata": {},
          "execution_count": 30
        }
      ]
    },
    {
      "cell_type": "code",
      "source": [],
      "metadata": {
        "id": "2Xf4oFnoCSM_"
      },
      "execution_count": null,
      "outputs": []
    }
  ]
}